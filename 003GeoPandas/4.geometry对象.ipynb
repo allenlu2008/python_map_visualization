{
 "cells": [
  {
   "cell_type": "code",
   "execution_count": 26,
   "metadata": {},
   "outputs": [],
   "source": [
    "import geopandas\n",
    "import matplotlib.pyplot as plt"
   ]
  },
  {
   "cell_type": "code",
   "execution_count": 2,
   "metadata": {},
   "outputs": [],
   "source": [
    "bj = geopandas.read_file(\"./data/beijing_Shapefile/行政区划.shp\")"
   ]
  },
  {
   "cell_type": "code",
   "execution_count": 3,
   "metadata": {},
   "outputs": [
    {
     "data": {
      "text/html": [
       "<div>\n",
       "<style scoped>\n",
       "    .dataframe tbody tr th:only-of-type {\n",
       "        vertical-align: middle;\n",
       "    }\n",
       "\n",
       "    .dataframe tbody tr th {\n",
       "        vertical-align: top;\n",
       "    }\n",
       "\n",
       "    .dataframe thead th {\n",
       "        text-align: right;\n",
       "    }\n",
       "</style>\n",
       "<table border=\"1\" class=\"dataframe\">\n",
       "  <thead>\n",
       "    <tr style=\"text-align: right;\">\n",
       "      <th></th>\n",
       "      <th>NAME</th>\n",
       "      <th>Shape_Leng</th>\n",
       "      <th>Shape_Area</th>\n",
       "      <th>面积</th>\n",
       "      <th>geometry</th>\n",
       "    </tr>\n",
       "  </thead>\n",
       "  <tbody>\n",
       "    <tr>\n",
       "      <th>0</th>\n",
       "      <td>昌平区</td>\n",
       "      <td>2.078148</td>\n",
       "      <td>0.141333</td>\n",
       "      <td>1336.1000</td>\n",
       "      <td>POLYGON Z ((116.32244 40.38358 0.00000, 116.33...</td>\n",
       "    </tr>\n",
       "    <tr>\n",
       "      <th>1</th>\n",
       "      <td>朝阳区</td>\n",
       "      <td>1.418457</td>\n",
       "      <td>0.049293</td>\n",
       "      <td>467.7140</td>\n",
       "      <td>MULTIPOLYGON Z (((116.48084 40.07908 0.00000, ...</td>\n",
       "    </tr>\n",
       "    <tr>\n",
       "      <th>2</th>\n",
       "      <td>大兴区</td>\n",
       "      <td>2.233111</td>\n",
       "      <td>0.105408</td>\n",
       "      <td>1004.4800</td>\n",
       "      <td>POLYGON Z ((116.43726 39.81707 0.00000, 116.43...</td>\n",
       "    </tr>\n",
       "    <tr>\n",
       "      <th>3</th>\n",
       "      <td>东城区</td>\n",
       "      <td>0.454513</td>\n",
       "      <td>0.004414</td>\n",
       "      <td>41.9047</td>\n",
       "      <td>POLYGON Z ((116.40311 39.97191 0.00000, 116.40...</td>\n",
       "    </tr>\n",
       "    <tr>\n",
       "      <th>4</th>\n",
       "      <td>房山区</td>\n",
       "      <td>2.470704</td>\n",
       "      <td>0.203341</td>\n",
       "      <td>1936.1600</td>\n",
       "      <td>POLYGON Z ((115.76348 39.92405 0.00000, 115.76...</td>\n",
       "    </tr>\n",
       "  </tbody>\n",
       "</table>\n",
       "</div>"
      ],
      "text/plain": [
       "  NAME  Shape_Leng  Shape_Area         面积  \\\n",
       "0  昌平区    2.078148    0.141333  1336.1000   \n",
       "1  朝阳区    1.418457    0.049293   467.7140   \n",
       "2  大兴区    2.233111    0.105408  1004.4800   \n",
       "3  东城区    0.454513    0.004414    41.9047   \n",
       "4  房山区    2.470704    0.203341  1936.1600   \n",
       "\n",
       "                                            geometry  \n",
       "0  POLYGON Z ((116.32244 40.38358 0.00000, 116.33...  \n",
       "1  MULTIPOLYGON Z (((116.48084 40.07908 0.00000, ...  \n",
       "2  POLYGON Z ((116.43726 39.81707 0.00000, 116.43...  \n",
       "3  POLYGON Z ((116.40311 39.97191 0.00000, 116.40...  \n",
       "4  POLYGON Z ((115.76348 39.92405 0.00000, 115.76...  "
      ]
     },
     "execution_count": 3,
     "metadata": {},
     "output_type": "execute_result"
    }
   ],
   "source": [
    "bj.head()"
   ]
  },
  {
   "cell_type": "code",
   "execution_count": 4,
   "metadata": {},
   "outputs": [
    {
     "data": {
      "text/plain": [
       "0    POLYGON Z ((116.32244 40.38358 0.00000, 116.33...\n",
       "1    MULTIPOLYGON Z (((116.48084 40.07908 0.00000, ...\n",
       "2    POLYGON Z ((116.43726 39.81707 0.00000, 116.43...\n",
       "3    POLYGON Z ((116.40311 39.97191 0.00000, 116.40...\n",
       "4    POLYGON Z ((115.76348 39.92405 0.00000, 115.76...\n",
       "Name: geometry, dtype: geometry"
      ]
     },
     "execution_count": 4,
     "metadata": {},
     "output_type": "execute_result"
    }
   ],
   "source": [
    "bj[\"geometry\"].head()"
   ]
  },
  {
   "cell_type": "code",
   "execution_count": 5,
   "metadata": {
    "scrolled": true
   },
   "outputs": [
    {
     "name": "stdout",
     "output_type": "stream",
     "text": [
      "Help on Polygon in module shapely.geometry.polygon object:\n",
      "\n",
      "class Polygon(shapely.geometry.base.BaseGeometry)\n",
      " |  Polygon(shell=None, holes=None)\n",
      " |  \n",
      " |  A two-dimensional figure bounded by a linear ring\n",
      " |  \n",
      " |  A polygon has a non-zero area. It may have one or more negative-space\n",
      " |  \"holes\" which are also bounded by linear rings. If any rings cross each\n",
      " |  other, the feature is invalid and operations on it may fail.\n",
      " |  \n",
      " |  Attributes\n",
      " |  ----------\n",
      " |  exterior : LinearRing\n",
      " |      The ring which bounds the positive space of the polygon.\n",
      " |  interiors : sequence\n",
      " |      A sequence of rings which bound all existing holes.\n",
      " |  \n",
      " |  Method resolution order:\n",
      " |      Polygon\n",
      " |      shapely.geometry.base.BaseGeometry\n",
      " |      builtins.object\n",
      " |  \n",
      " |  Methods defined here:\n",
      " |  \n",
      " |  __eq__(self, other)\n",
      " |      Return self==value.\n",
      " |  \n",
      " |  __init__(self, shell=None, holes=None)\n",
      " |      Parameters\n",
      " |      ----------\n",
      " |      shell : sequence\n",
      " |          A sequence of (x, y [,z]) numeric coordinate pairs or triples.\n",
      " |          Also can be a sequence of Point objects.\n",
      " |      holes : sequence\n",
      " |          A sequence of objects which satisfy the same requirements as the\n",
      " |          shell parameters above\n",
      " |      \n",
      " |      Example\n",
      " |      -------\n",
      " |      Create a square polygon with no holes\n",
      " |      \n",
      " |        >>> coords = ((0., 0.), (0., 1.), (1., 1.), (1., 0.), (0., 0.))\n",
      " |        >>> polygon = Polygon(coords)\n",
      " |        >>> polygon.area\n",
      " |        1.0\n",
      " |  \n",
      " |  __ne__(self, other)\n",
      " |      Return self!=value.\n",
      " |  \n",
      " |  svg(self, scale_factor=1.0, fill_color=None)\n",
      " |      Returns SVG path element for the Polygon geometry.\n",
      " |      \n",
      " |      Parameters\n",
      " |      ==========\n",
      " |      scale_factor : float\n",
      " |          Multiplication factor for the SVG stroke-width.  Default is 1.\n",
      " |      fill_color : str, optional\n",
      " |          Hex string for fill color. Default is to use \"#66cc99\" if\n",
      " |          geometry is valid, and \"#ff3333\" if invalid.\n",
      " |  \n",
      " |  ----------------------------------------------------------------------\n",
      " |  Class methods defined here:\n",
      " |  \n",
      " |  from_bounds(xmin, ymin, xmax, ymax) from builtins.type\n",
      " |      Construct a `Polygon()` from spatial bounds.\n",
      " |  \n",
      " |  ----------------------------------------------------------------------\n",
      " |  Data descriptors defined here:\n",
      " |  \n",
      " |  __array_interface__\n",
      " |      Provide the Numpy array protocol.\n",
      " |  \n",
      " |  __geo_interface__\n",
      " |      Dictionary representation of the geometry\n",
      " |  \n",
      " |  coords\n",
      " |      Access to geometry's coordinates (CoordinateSequence)\n",
      " |  \n",
      " |  ctypes\n",
      " |      Return ctypes buffer\n",
      " |  \n",
      " |  exterior\n",
      " |  \n",
      " |  interiors\n",
      " |  \n",
      " |  ----------------------------------------------------------------------\n",
      " |  Data and other attributes defined here:\n",
      " |  \n",
      " |  __hash__ = None\n",
      " |  \n",
      " |  ----------------------------------------------------------------------\n",
      " |  Methods inherited from shapely.geometry.base.BaseGeometry:\n",
      " |  \n",
      " |  __and__(self, other)\n",
      " |  \n",
      " |  __bool__(self)\n",
      " |  \n",
      " |  __del__(self)\n",
      " |  \n",
      " |  __nonzero__(self)\n",
      " |  \n",
      " |  __or__(self, other)\n",
      " |  \n",
      " |  __reduce__(self)\n",
      " |      Helper for pickle.\n",
      " |  \n",
      " |  __setstate__(self, state)\n",
      " |  \n",
      " |  __str__(self)\n",
      " |      Return str(self).\n",
      " |  \n",
      " |  __sub__(self, other)\n",
      " |  \n",
      " |  __xor__(self, other)\n",
      " |  \n",
      " |  almost_equals(self, other, decimal=6)\n",
      " |      Returns True if geometries are equal at all coordinates to a\n",
      " |      specified decimal place\n",
      " |      \n",
      " |      Refers to approximate coordinate equality, which requires coordinates be\n",
      " |      approximately equal and in the same order for all components of a geometry.\n",
      " |  \n",
      " |  buffer(self, distance, resolution=16, quadsegs=None, cap_style=1, join_style=1, mitre_limit=5.0, single_sided=False)\n",
      " |      Get a geometry that represents all points within a distance\n",
      " |      of this geometry.\n",
      " |      \n",
      " |      A positive distance produces a dilation, a negative distance an\n",
      " |      erosion. A very small or zero distance may sometimes be used to\n",
      " |      \"tidy\" a polygon.\n",
      " |      \n",
      " |      Parameters\n",
      " |      ----------\n",
      " |      distance : float\n",
      " |          The distance to buffer around the object.\n",
      " |      resolution : int, optional\n",
      " |          The resolution of the buffer around each vertex of the\n",
      " |          object.\n",
      " |      quadsegs : int, optional\n",
      " |          Sets the number of line segments used to approximate an\n",
      " |          angle fillet.  Note: the use of a `quadsegs` parameter is\n",
      " |          deprecated and will be gone from the next major release.\n",
      " |      cap_style : int, optional\n",
      " |          The styles of caps are: CAP_STYLE.round (1), CAP_STYLE.flat\n",
      " |          (2), and CAP_STYLE.square (3).\n",
      " |      join_style : int, optional\n",
      " |          The styles of joins between offset segments are:\n",
      " |          JOIN_STYLE.round (1), JOIN_STYLE.mitre (2), and\n",
      " |          JOIN_STYLE.bevel (3).\n",
      " |      mitre_limit : float, optional\n",
      " |          The mitre limit ratio is used for very sharp corners. The\n",
      " |          mitre ratio is the ratio of the distance from the corner to\n",
      " |          the end of the mitred offset corner. When two line segments\n",
      " |          meet at a sharp angle, a miter join will extend the original\n",
      " |          geometry. To prevent unreasonable geometry, the mitre limit\n",
      " |          allows controlling the maximum length of the join corner.\n",
      " |          Corners with a ratio which exceed the limit will be beveled.\n",
      " |      single_side : bool, optional\n",
      " |          The side used is determined by the sign of the buffer\n",
      " |          distance:\n",
      " |      \n",
      " |              a positive distance indicates the left-hand side\n",
      " |              a negative distance indicates the right-hand side\n",
      " |      \n",
      " |          The single-sided buffer of point geometries is the same as\n",
      " |          the regular buffer.  The End Cap Style for single-sided\n",
      " |          buffers is always ignored, and forced to the equivalent of\n",
      " |          CAP_FLAT.\n",
      " |      \n",
      " |      Returns\n",
      " |      -------\n",
      " |      Geometry\n",
      " |      \n",
      " |      Notes\n",
      " |      -----\n",
      " |      The return value is a strictly two-dimensional geometry. All\n",
      " |      Z coordinates of the original geometry will be ignored.\n",
      " |      \n",
      " |      Examples\n",
      " |      --------\n",
      " |      >>> from shapely.wkt import loads\n",
      " |      >>> g = loads('POINT (0.0 0.0)')\n",
      " |      >>> g.buffer(1.0).area        # 16-gon approx of a unit radius circle\n",
      " |      3.1365484905459389\n",
      " |      >>> g.buffer(1.0, 128).area   # 128-gon approximation\n",
      " |      3.1415138011443009\n",
      " |      >>> g.buffer(1.0, 3).area     # triangle approximation\n",
      " |      3.0\n",
      " |      >>> list(g.buffer(1.0, cap_style=CAP_STYLE.square).exterior.coords)\n",
      " |      [(1.0, 1.0), (1.0, -1.0), (-1.0, -1.0), (-1.0, 1.0), (1.0, 1.0)]\n",
      " |      >>> g.buffer(1.0, cap_style=CAP_STYLE.square).area\n",
      " |      4.0\n",
      " |  \n",
      " |  contains(self, other)\n",
      " |      Returns True if the geometry contains the other, else False\n",
      " |  \n",
      " |  covers(self, other)\n",
      " |      Returns True if the geometry covers the other, else False\n",
      " |  \n",
      " |  crosses(self, other)\n",
      " |      Returns True if the geometries cross, else False\n",
      " |  \n",
      " |  difference(self, other)\n",
      " |      Returns the difference of the geometries\n",
      " |  \n",
      " |  disjoint(self, other)\n",
      " |      Returns True if geometries are disjoint, else False\n",
      " |  \n",
      " |  distance(self, other)\n",
      " |      Unitless distance to other geometry (float)\n",
      " |  \n",
      " |  empty(self, val=2255086625424)\n",
      " |  \n",
      " |  equals(self, other)\n",
      " |      Returns True if geometries are equal, else False\n",
      " |      \n",
      " |      Refers to point-set equality (or topological equality), and is equivalent to\n",
      " |      (self.within(other) & self.contains(other))\n",
      " |  \n",
      " |  equals_exact(self, other, tolerance)\n",
      " |      Returns True if geometries are equal to within a specified\n",
      " |      tolerance\n",
      " |      \n",
      " |      Refers to coordinate equality, which requires coordinates to be equal\n",
      " |      and in the same order for all components of a geometry\n",
      " |  \n",
      " |  geometryType(self)\n",
      " |  \n",
      " |  hausdorff_distance(self, other)\n",
      " |      Unitless hausdorff distance to other geometry (float)\n",
      " |  \n",
      " |  interpolate(self, distance, normalized=False)\n",
      " |      Return a point at the specified distance along a linear geometry\n",
      " |      \n",
      " |      Negative length values are taken as measured in the reverse\n",
      " |      direction from the end of the geometry. Out-of-range index\n",
      " |      values are handled by clamping them to the valid range of values.\n",
      " |      If the normalized arg is True, the distance will be interpreted as a\n",
      " |      fraction of the geometry's length.\n",
      " |  \n",
      " |  intersection(self, other)\n",
      " |      Returns the intersection of the geometries\n",
      " |  \n",
      " |  intersects(self, other)\n",
      " |      Returns True if geometries intersect, else False\n",
      " |  \n",
      " |  overlaps(self, other)\n",
      " |      Returns True if geometries overlap, else False\n",
      " |  \n",
      " |  project(self, other, normalized=False)\n",
      " |      Returns the distance along this geometry to a point nearest the\n",
      " |      specified point\n",
      " |      \n",
      " |      If the normalized arg is True, return the distance normalized to the\n",
      " |      length of the linear geometry.\n",
      " |  \n",
      " |  relate(self, other)\n",
      " |      Returns the DE-9IM intersection matrix for the two geometries\n",
      " |      (string)\n",
      " |  \n",
      " |  relate_pattern(self, other, pattern)\n",
      " |      Returns True if the DE-9IM string code for the relationship between\n",
      " |      the geometries satisfies the pattern, else False\n",
      " |  \n",
      " |  representative_point(self)\n",
      " |      Returns a point guaranteed to be within the object, cheaply.\n",
      " |  \n",
      " |  simplify(self, tolerance, preserve_topology=True)\n",
      " |      Returns a simplified geometry produced by the Douglas-Peucker\n",
      " |      algorithm\n",
      " |      \n",
      " |      Coordinates of the simplified geometry will be no more than the\n",
      " |      tolerance distance from the original. Unless the topology preserving\n",
      " |      option is used, the algorithm may produce self-intersecting or\n",
      " |      otherwise invalid geometries.\n",
      " |  \n",
      " |  symmetric_difference(self, other)\n",
      " |      Returns the symmetric difference of the geometries\n",
      " |      (Shapely geometry)\n",
      " |  \n",
      " |  to_wkb(self)\n",
      " |  \n",
      " |  to_wkt(self)\n",
      " |  \n",
      " |  touches(self, other)\n",
      " |      Returns True if geometries touch, else False\n",
      " |  \n",
      " |  union(self, other)\n",
      " |      Returns the union of the geometries (Shapely geometry)\n",
      " |  \n",
      " |  within(self, other)\n",
      " |      Returns True if geometry is within the other, else False\n",
      " |  \n",
      " |  ----------------------------------------------------------------------\n",
      " |  Data descriptors inherited from shapely.geometry.base.BaseGeometry:\n",
      " |  \n",
      " |  __dict__\n",
      " |      dictionary for instance variables (if defined)\n",
      " |  \n",
      " |  __weakref__\n",
      " |      list of weak references to the object (if defined)\n",
      " |  \n",
      " |  area\n",
      " |      Unitless area of the geometry (float)\n",
      " |  \n",
      " |  array_interface_base\n",
      " |  \n",
      " |  boundary\n",
      " |      Returns a lower dimension geometry that bounds the object\n",
      " |      \n",
      " |      The boundary of a polygon is a line, the boundary of a line is a\n",
      " |      collection of points. The boundary of a point is an empty (null)\n",
      " |      collection.\n",
      " |  \n",
      " |  bounds\n",
      " |      Returns minimum bounding region (minx, miny, maxx, maxy)\n",
      " |  \n",
      " |  centroid\n",
      " |      Returns the geometric center of the object\n",
      " |  \n",
      " |  convex_hull\n",
      " |      Imagine an elastic band stretched around the geometry: that's a\n",
      " |      convex hull, more or less\n",
      " |      \n",
      " |      The convex hull of a three member multipoint, for example, is a\n",
      " |      triangular polygon.\n",
      " |  \n",
      " |  envelope\n",
      " |      A figure that envelopes the geometry\n",
      " |  \n",
      " |  geom_type\n",
      " |      Name of the geometry's type, such as 'Point'\n",
      " |  \n",
      " |  has_z\n",
      " |      True if the geometry's coordinate sequence(s) have z values (are\n",
      " |      3-dimensional)\n",
      " |  \n",
      " |  is_closed\n",
      " |      True if the geometry is closed, else False\n",
      " |      \n",
      " |      Applicable only to 1-D geometries.\n",
      " |  \n",
      " |  is_empty\n",
      " |      True if the set of points in this geometry is empty, else False\n",
      " |  \n",
      " |  is_ring\n",
      " |      True if the geometry is a closed ring, else False\n",
      " |  \n",
      " |  is_simple\n",
      " |      True if the geometry is simple, meaning that any self-intersections\n",
      " |      are only at boundary points, else False\n",
      " |  \n",
      " |  is_valid\n",
      " |      True if the geometry is valid (definition depends on sub-class),\n",
      " |      else False\n",
      " |  \n",
      " |  length\n",
      " |      Unitless length of the geometry (float)\n",
      " |  \n",
      " |  minimum_clearance\n",
      " |      Unitless distance by which a node could be moved to produce an invalid geometry (float)\n",
      " |  \n",
      " |  minimum_rotated_rectangle\n",
      " |      Returns the general minimum bounding rectangle of\n",
      " |      the geometry. Can possibly be rotated. If the convex hull\n",
      " |      of the object is a degenerate (line or point) this same degenerate\n",
      " |      is returned.\n",
      " |  \n",
      " |  type\n",
      " |  \n",
      " |  wkb\n",
      " |      WKB representation of the geometry\n",
      " |  \n",
      " |  wkb_hex\n",
      " |      WKB hex representation of the geometry\n",
      " |  \n",
      " |  wkt\n",
      " |      WKT representation of the geometry\n",
      " |  \n",
      " |  xy\n",
      " |      Separate arrays of X and Y coordinate values\n",
      " |  \n",
      " |  ----------------------------------------------------------------------\n",
      " |  Data and other attributes inherited from shapely.geometry.base.BaseGeometry:\n",
      " |  \n",
      " |  __geom__ = 2255086625424\n",
      " |  \n",
      " |  __p__ = None\n",
      " |  \n",
      " |  impl = <GEOSImpl object: GEOS C API version (1, 10, 0)>\n",
      "\n"
     ]
    }
   ],
   "source": [
    "help(bj[\"geometry\"][0])"
   ]
  },
  {
   "cell_type": "code",
   "execution_count": 29,
   "metadata": {},
   "outputs": [
    {
     "data": {
      "text/plain": [
       "<AxesSubplot:>"
      ]
     },
     "execution_count": 29,
     "metadata": {},
     "output_type": "execute_result"
    },
    {
     "data": {
      "image/png": "[encoded data removed]",
      "text/plain": [
       "<Figure size 504x576 with 1 Axes>"
      ]
     },
     "metadata": {
      "needs_background": "light"
     },
     "output_type": "display_data"
    }
   ],
   "source": [
    "fig, ax = plt.subplots(figsize=(7,8))\n",
    "bj.plot(ax=ax,cmap=\"Set2\")"
   ]
  },
  {
   "cell_type": "code",
   "execution_count": 32,
   "metadata": {},
   "outputs": [],
   "source": [
    "geom = bj[\"geometry\"].unary_union"
   ]
  },
  {
   "cell_type": "code",
   "execution_count": 35,
   "metadata": {},
   "outputs": [
    {
     "data": {
      "image/svg+xml": [
       "<svg xmlns=\"http://www.w3.org/2000/svg\" xmlns:xlink=\"http://www.w3.org/1999/xlink\" width=\"100.0\" height=\"100.0\" viewBox=\"115.23123001971597 39.2522160598718 2.32415997952576 1.992952388857404\" preserveAspectRatio=\"xMinYMin meet\"><g transform=\"matrix(1,0,0,-1,0,80.497384508601)\"><path fill-rule=\"evenodd\" fill=\"#66cc99\" stroke=\"#555555\" stroke-width=\"0.046483199590515195\" opacity=\"0.6\" d=\"M 115.31812442859301,39.96604869567537 L 115.31807911238643,39.96876369833436 L 115.31884050847546,39.97833609188912 L 115.32039050847541,39.99043609188915 L 115.32202568514067,39.999710801903724 L 115.32452611052008,40.008790555287106 L 115.32786960732862,40.01759482003053 L 115.33202652073945,40.026045507545504 L 115.33695998140459,40.03406766526314 L 115.34262623246403,40.041590141418794 L 115.35096623246412,40.05164014141877 L 115.35675201941814,40.05803039885932 L 115.3630666607659,40.06389862052206 L 115.36986323195234,40.06920119922881 L 115.37110324999364,40.070007096872644 L 115.37265551202435,40.07165171390349 L 115.37983895868064,40.077936780452454 L 115.38758889929296,40.08350835006019 L 115.39583472882767,40.08831566351711 L 115.4015900847118,40.09097151246602 L 115.40275806140005,40.09412453853618 L 115.40722345898376,40.10322482388399 L 115.4125872077186,40.11182628704451 L 115.41879419242107,40.1198405437097 L 115.42561509076039,40.127011212050526 L 115.42909104667558,40.1312643346054 L 115.43616178409904,40.138337349399066 L 115.44390365710818,40.144668721153536 L 115.45223922927035,40.150195121673974 L 115.47084922927031,40.161235121673954 L 115.47930657382052,40.165719528410015 L 115.48815395505416,40.16937472004958 L 115.49731029859488,40.17216720166632 L 115.50669169884137,40.174071383913535 L 115.5085025192741,40.17426128844123 L 115.5113585077133,40.175612505639926 L 115.52059450774995,40.17891886758637 L 115.53011002918997,40.18130436076861 L 115.53981349872195,40.18274602821981 L 115.54635408773909,40.183069096449714 L 115.55049399879171,40.187481354267106 L 115.55806942145595,40.19408162891747 L 115.56626892690369,40.199888414983356 L 115.57500974059116,40.204843092579644 L 115.58420362343253,40.20889564391198 L 115.59375776257926,40.21200515820962 L 115.59921652912746,40.213192263850615 L 115.59922973908232,40.21320067557019 L 115.60774370656931,40.217540696796334 L 115.61663307081344,40.2210482073021 L 115.64910307081342,40.23209820730211 L 115.65903785262718,40.23491592672004 L 115.6692102499958,40.23669406174868 L 115.67951178505112,40.23741365045701 L 115.68415734892208,40.2372576262233 L 115.6850489549902,40.23810992899761 L 115.69256808626004,40.24403178893654 L 115.70061891489297,40.249207686782555 L 115.70912769066129,40.25359020832998 L 115.71801646827775,40.25713920715702 L 115.72720382141928,40.25982217239013 L 115.72748533640963,40.2598758404447 L 115.73334110866541,40.2619915838514 L 115.7429077022348,40.264413853463566 L 115.75266646293488,40.26588139978122 L 115.7625223530227,40.26637993079598 L 115.78802235302267,40.26640993079596 L 115.79310050967706,40.26617114411156 L 115.79697054988999,40.27304233645826 L 115.80232791965533,40.28075822422 L 115.80368180436207,40.282524848958744 L 115.80037807911484,40.28541861532496 L 115.79354474264738,40.29273460145928 L 115.78747712546077,40.30069714892047 L 115.78223603608608,40.309226458538575 L 115.7778739997464,40.31823705115873 L 115.77758577537148,40.319024940531854 L 115.77135213734094,40.32056043375955 L 115.76224204439806,40.323763772599015 L 115.75348341113772,40.32783089892591 L 115.74515791634603,40.332723884683254 L 115.73734319956883,40.338397100247654 L 115.73011213708271,40.34479763994912 L 115.72357108532479,40.35182400451347 L 115.72348530685369,40.35187623125787 L 115.71500984914026,40.35765237477198 L 115.70717062578436,40.36426628394311 L 115.70005010323429,40.371648382287205 L 115.69047010323426,40.382658382287204 L 115.68444231141694,40.39030848581978 L 115.6791873087186,40.39850868733513 L 115.67475494323207,40.40718120106794 L 115.67118725964868,40.416243760976755 L 115.668787974409,40.42466335664698 L 115.66588063818018,40.42804165929817 L 115.66041108611034,40.435769957728034 L 115.65569694246476,40.44398089227621 L 115.65178046605105,40.45260085799347 L 115.64869676518072,40.46155258326896 L 115.64647348294902,40.470755822513055 L 115.64513054943515,40.48012807549956 L 115.64468000304382,40.48958532691923 L 115.64467000304384,40.53011532691922 L 115.64520465674572,40.54046693039109 L 115.6468079815029,40.550707579723166 L 115.64946275094583,40.56072724779275 L 115.6531404418204,40.570418281734014 L 115.65344306554444,40.57101937918852 L 115.65481291261776,40.574472078302044 L 115.65640291261772,40.57816207830205 L 115.66071213758299,40.58695189926701 L 115.6658601453133,40.59527826635031 L 115.67179760225889,40.60306138766612 L 115.67846760954872,40.61022667727303 L 115.68580624825455,40.61670546993391 L 115.69374319192838,40.62243567913741 L 115.7022023805434,40.62736239207534 L 115.7111027493801,40.631438395874156 L 115.71589760752454,40.63308890554203 L 115.72585912172607,40.64044061953167 L 115.73422450354055,40.645988250307745 L 115.74310389617354,40.65066929790406 L 115.74885763420188,40.65299907021417 L 115.75522436635907,40.65902715526002 L 115.76322751732985,40.66519968369841 L 115.7718128495476,40.670532844439954 L 115.78089266338625,40.674972158963534 L 115.79037420806372,40.67847227943477 L 115.80016062909597,40.68099745193657 L 115.81015195767073,40.68252188169729 L 115.82024613183428,40.6830299965857 L 115.97331613183424,40.68298999658569 L 115.9830157018069,40.68251592990962 L 115.98639311878603,40.68201934209773 L 115.98929854098415,40.68244829594128 L 115.99916580975386,40.68291986253559 L 116.02461859682053,40.682877659274 L 116.02673710070736,40.6890159298868 L 116.03067245995712,40.697657764283846 L 116.03540975436783,40.70588736912471 L 116.0409062685355,40.713630539417 L 116.04711244129648,40.72081745626857 L 116.05397231261243,40.72738331643302 L 116.05787685252925,40.73046724533219 L 116.06521438900123,40.73748986589596 L 116.07358621196501,40.74395570844576 L 116.0793162119651,40.74791570844577 L 116.08116070498967,40.749060637792454 L 116.08149534584531,40.749624287886334 L 116.08405308430065,40.75311284410978 L 116.08554286809778,40.756405958714595 L 116.09014176043472,40.76447941202335 L 116.09547012995276,40.77209117511311 L 116.10148197659326,40.7791755352837 L 116.10421094878325,40.78184386613529 L 116.10836742908117,40.7865969398231 L 116.11555182766152,40.79333960049359 L 116.12336489246496,40.79934252263665 L 116.12729827675179,40.80178971246208 L 116.12921944559228,40.80454382488025 L 116.13564401081507,40.812049738105564 L 116.14277789616536,40.818885047276105 L 116.14866789616526,40.82399504727611 L 116.14998841911634,40.825120764935086 L 116.15115841911634,40.826100764935056 L 116.15911234365512,40.83211451906476 L 116.16762563893901,40.83730623917573 L 116.17661365714163,40.841624303914784 L 116.18598703025931,40.8450257786976 L 116.1956525586985,40.847476842607925 L 116.20551413796079,40.84895312467948 L 116.21547371421141,40.84943994621685 L 116.2713971265141,40.84938194565959 L 116.27009125316361,40.85838636261708 L 116.26963000218288,40.86795910572559 L 116.2696200021829,40.9158191057256 L 116.27010005496669,40.92562675332059 L 116.27153968306142,40.93534003664662 L 116.27392500551512,40.94486529983535 L 116.2772330229528,40.95411069991619 L 116.28143183933734,40.962987092369865 L 116.28648096951235,40.97140889066349 L 116.2923317295617,40.97929489147935 L 116.29892770622179,40.986569057680526 L 116.30620530082047,40.99316125146408 L 116.31409434249805,40.999007910632535 L 116.32251876479754,41.00405266146313 L 116.33139733910042,41.00824686226554 L 116.34064445783633,41.011550072387024 L 116.35017095991466,41.013930442142794 L 116.3598849904194,41.01536501991196 L 116.36969288627789,41.015839973438005 L 116.38341288627792,41.01582997343803 L 116.39326427732357,41.015336325023206 L 116.40252771589302,41.01394818041259 L 116.40277840866288,41.01463335286274 L 116.40714686215206,41.02365330974887 L 116.4123962323399,41.032190705179914 L 116.41847379297316,41.040159786988 L 116.42531849920462,41.047480511318255 L 116.43286160074597,41.054079346613364 L 116.44102733241623,41.05989001218661 L 116.44973367515018,41.06485414396505 L 116.45889317982244,41.06892188071585 L 116.46841384561277,41.07205236486745 L 116.47820004409009,41.07421415289536 L 116.48168978567692,41.07462484600243 L 116.48753001508638,41.076725879601135 L 116.48869592356006,41.07734051613346 L 116.49746870289647,41.08143550865099 L 116.50659635852183,41.084662972638206 L 116.51599333635313,41.08699265687472 L 116.52557155793362,41.088402725085515 L 116.5262988090898,41.08843861766936 L 116.52799587493836,41.093068093348734 L 116.53237931689046,41.102100729803 L 116.53764640556867,41.11064829445723 L 116.54374404709438,41.11862462522308 L 116.55061077536011,41.12594931822599 L 116.5557107753602,41.13086931822596 L 116.56349383500029,41.1376384933868 L 116.57193279596386,41.143569908696385 L 116.58093786960526,41.14860045523054 L 116.59041324396735,41.152676609106166 L 116.60025810319912,41.155755000963275 L 116.61036770021374,41.15780287740522 L 116.6206344711739,41.1587984494875 L 116.62706447117381,41.159088449487506 L 116.63790437512063,41.15898917680944 L 116.64866984168904,41.15771713034602 L 116.6592343622506,41.15528725834424 L 116.66512491425173,41.153591493374215 L 116.67051545163746,41.15204567750627 L 116.68095461887987,41.14841675099058 L 116.6909295774874,41.143658019946585 L 116.6929874442268,41.14238010739409 L 116.70286643472814,41.14091908718211 L 116.71256036154921,41.13847644168455 L 116.72196196395936,41.135078117632816 L 116.73097728353412,41.13075807744733 L 116.73951622231077,41.1255594950629 L 116.747493443216,41.11953432445386 L 116.75482922291384,41.112742780412624 L 116.76145024855049,41.10525273677071 L 116.76729035043381,41.097139048076194 L 116.77229116332481,41.0884828015069 L 116.77640270973242,41.07937050649537 L 116.77802903349881,41.07452542605883 L 116.7795669179685,41.071689421784825 L 116.78368412415199,41.06315515777504 L 116.78697509128637,41.054269518559636 L 116.78941027140709,41.04511228389377 L 116.79096780023755,41.035765672053735 L 116.7916336934975,41.02631360163968 L 116.79140197246106,41.01684093811207 L 116.79027471763668,41.00743273182676 L 116.78962470619845,41.00356828026238 L 116.78888010468528,40.99886457802113 L 116.78882751212521,40.998611225298134 L 116.79541263731939,40.99139032128071 L 116.80127726829862,40.983535015818035 L 116.806344586149,40.975143233514025 L 116.8105658940876,40.96629561916202 L 116.81124772900479,40.964410777277834 L 116.81491577939306,40.96114125607766 L 116.82162392566873,40.95384824939613 L 116.82757736678836,40.94592715655817 L 116.8327176475967,40.93745575253498 L 116.8349263672353,40.9328393532226 L 116.85046771248476,40.93285991250007 L 116.86048181773052,40.93237055058812 L 116.87039658918651,40.93088089091919 L 116.88011236180628,40.928405907817286 L 116.88953147091506,40.92497048025282 L 116.89855923395248,40.920609141754824 L 116.90710490223849,40.91536573327374 L 116.91508257319522,40.9092929624844 L 116.9163330419322,40.90812581739939 L 116.92353536249315,40.90397273286223 L 116.93176898868535,40.8980372680738 L 116.93935852961086,40.89129774204689 L 116.9462257960412,40.88382358695737 L 116.9469057960412,40.88300358695734 L 116.9528291922191,40.87509605769618 L 116.95794336261586,40.86664260263631 L 116.96219838492918,40.857725740721406 L 116.96555272348589,40.84843251447088 L 116.96797363469501,40.83885364030875 L 116.96845649586055,40.83563060625107 L 116.97241785553449,40.83330505259345 L 116.98022869622775,40.82764147745723 L 116.9808266041428,40.82711294627932 L 116.98148401065953,40.82680689140708 L 116.98989744115539,40.82183815052056 L 116.99778578798875,40.816072026784205 L 117.00507373780027,40.80956357180236 L 117.01169170947313,40.80237492452742 L 117.01655329861123,40.79593097715533 L 117.01666527926129,40.79584104508452 L 117.01778021208712,40.79484277847739 L 117.02000994301463,40.794045278063486 L 117.03187994301467,40.78928527806345 L 117.04087945290124,40.78514785616219 L 117.04942550633207,40.78014042079615 L 117.05743425845706,40.7743120996324 L 117.06482713585908,40.767720074002405 L 117.06632795833394,40.76608794226108 L 117.14468561383933,40.76602004134642 L 117.27034457260808,40.766139954468095 L 117.28048026833137,40.765634688359945 L 117.29051256171907,40.76410475011984 L 117.30033813256762,40.76156589621784 L 117.30101544812734,40.76131528309958 L 117.30101608457353,40.76131552288849 L 117.311012255558,40.76394172384318 L 117.32122610235402,40.76552213500249 L 117.3315485202765,40.7660398743566 L 117.36939852027655,40.76597987435658 L 117.37918632720849,40.76548412340739 L 117.3888786027176,40.76403266586541 L 117.3983822554697,40.76163944253524 L 117.40760600579438,40.75832743959311 L 117.41646126239817,40.75412846781165 L 117.42486297325685,40.749082857027226 L 117.43273044251394,40.74323906878421 L 117.43998810553978,40.736653230876705 L 117.44656625470654,40.72938859825829 L 117.45240170890862,40.72151494549759 L 117.45743842039784,40.71310789661496 L 117.46162801310481,40.704248198736906 L 117.46493024727633,40.69502094654479 L 117.46731340596578,40.685514764966385 L 117.46875459966476,40.675820957960745 L 117.46923998614969,40.666032631571575 L 117.46924998614966,40.64703263157157 L 117.46925000000007,40.58269000000007 L 117.46876763735757,40.57287980862662 L 117.4673252029044,40.563164258649856 L 117.46493661217048,40.553637078436985 L 117.46162490849457,40.54439017910447 L 117.45742204071938,40.53551276782826 L 117.45236855497306,40.52709048723958 L 117.44651320351036,40.51920458920886 L 117.43991247438738,40.511931150988346 L 117.43263004650696,40.50534034127564 L 117.42473617529222,40.49949574327853 L 117.41630701491475,40.4944537413117 L 117.407423883616,40.490262976843 L 117.39817247920976,40.486963879236896 L 117.38864205233351,40.48458827572217 L 117.37892454542512,40.483159084346596 L 117.3691137057308,40.48269009288075 L 117.33987590754724,40.48272994236115 L 117.33906244201839,40.480423364090655 L 117.34015151818498,40.47740645280886 L 117.34257280426468,40.46782777620583 L 117.34403705853313,40.45805691999041 L 117.34452998786678,40.44818926107772 L 117.34453998786675,40.4278892610777 L 117.34406698257985,40.41812507650285 L 117.3426428672468,40.40845373068484 L 117.34028125114588,40.39896764593901 L 117.33812118848341,40.39289584573276 L 117.34012550346466,40.38737637532872 L 117.34257480668326,40.377737190768975 L 117.34405451747232,40.36790238415093 L 117.34454999957363,40.357969234463106 L 117.34455082409504,40.349040492249465 L 117.34477635546351,40.34902881349953 L 117.35473587705364,40.34749764223917 L 117.3644907428104,40.344971944355294 L 117.37394190518671,40.341477364914304 L 117.38299340033507,40.33704938667221 L 117.39155332249128,40.331732969794984 L 117.39953475715404,40.32558209534846 L 117.40001612492662,40.325126961092245 L 117.40231699658895,40.32432214975974 L 117.41111565421917,40.32076749810647 L 117.41953775383585,40.316394837301345 L 117.42750745281114,40.311243543996426 L 117.43495298247203,40.30536000657928 L 117.44180729439101,40.2987972074366 L 117.4480086641702,40.29161424583767 L 117.45350124728131,40.28387580573402 L 117.45823558195636,40.275651573268036 L 117.46216903460049,40.26701560923579 L 117.4652661837157,40.25804568215536 L 117.46749913887814,40.24882256794635 L 117.46884779189686,40.23942932252716 L 117.46929999789187,40.2299505338805 L 117.46930999789184,40.1812505338805 L 117.46931000000004,40.17621000000008 L 117.46883440375251,40.16646869322349 L 117.46741213884573,40.15682004502588 L 117.46505673375675,40.14735583262478 L 117.46179059292201,40.13816607889827 L 117.45764478362801,40.12933819609411 L 117.4526587405016,40.120956154371 L 117.44687989041083,40.11309968308075 L 117.44036320134403,40.10584351238864 L 117.43317065955854,40.09925666244573 L 117.42537067997203,40.093401786874345 L 117.41703745540497,40.088334576811505 L 117.40825025086399,40.08410323117904 L 117.40011764301508,40.081123543261114 L 117.39487316122383,40.07798302790312 L 117.3859775212989,40.07378274313412 L 117.3767122256186,40.07047682453686 L 117.36716693889828,40.068097265073064 L 117.35743403546098,40.06666709288227 L 117.34760770528685,40.06620014842751 L 117.33159518165881,40.06622773720012 L 117.32735334908159,40.05924785620013 L 117.3213813546441,40.051316640275296 L 117.31465233767435,40.044016692725606 L 117.30723262535481,40.037419968333694 L 117.29919535297634,40.03159149028863 L 117.29450508101982,40.0288553113146 L 117.28897658956284,40.02270616287372 L 117.28166964672793,40.01604029189325 L 117.27373995181047,40.01012884638163 L 117.26526507724884,40.00502965520209 L 117.25632792871491,40.00079260131957 L 117.24701593408722,39.9974591338194 L 117.23742018818555,39.995061862430575 L 117.22763456163364,39.99362423852028 L 117.22364351790355,39.99343683590541 L 117.2188968945341,39.99158306112291 L 117.21836877913641,39.991436904744056 L 117.21710529476972,39.99082892903425 L 117.2077797710273,39.98743329197769 L 117.19816358859937,39.984978749331326 L 117.18835146279025,39.983489477295606 L 117.17844003886323,39.982980144566255 L 117.17464669988638,39.98297369440645 L 117.17394862612828,39.98246900344874 L 117.1653537702646,39.97747315508761 L 117.15630534604834,39.97335538052267 L 117.14689277909962,39.9701563757398 L 117.13720909386292,39.96790775651866 L 117.1273499942461,39.96663174597386 L 117.11741291777814,39.96634095492374 L 117.10749607263364,39.967038257257656 L 117.10363264044959,39.96770006442789 L 117.09883094125856,39.96630379254603 L 117.0944301923083,39.96545729045089 L 117.08934801076046,39.96039698342911 L 117.08236549125807,39.95407090160333 L 117.07481858103222,39.948430065148465 L 117.06677427769532,39.94352455052802 L 117.05830399446162,39.93939790639401 L 117.04948292617729,39.93608676698428 L 117.04038938177884,39.933620526902494 L 117.03110408910652,39.9320210801678 L 117.02170947824378,39.93130262585098 L 117.0073294782437,39.93088262585096 L 117.00096377241468,39.93089940006476 L 116.99980377241477,39.93093940006477 L 116.99386905915068,39.93132098258438 L 116.9911063808564,39.9315812957367 L 116.99071453781636,39.93159903443023 L 116.98175299193518,39.9328227915375 L 116.96978299193516,39.93501279153754 L 116.96036194010573,39.93721217798236 L 116.9509619401057,39.93989217798236 L 116.94960639350334,39.94028902543484 L 116.94545040562804,39.94153765802182 L 116.94823861323951,39.940100808571515 L 116.95006064512452,39.93941219114897 L 116.95796024895448,39.93560536899805 L 116.96549598072261,39.93112113190824 L 116.96738598072261,39.929881131908246 L 116.97450785406174,39.924747675844266 L 116.98115204269095,39.91900936524976 L 116.98274204269092,39.917509365249735 L 116.9907438291062,39.90902565199353 L 116.99770351630131,39.899668049170415 L 116.99881351630135,39.89797804917042 L 117.00276343929748,39.89143180456582 L 117.00392343929751,39.889331804565835 L 117.0054301306403,39.886413065510695 L 117.00761711529286,39.8827156082932 L 117.00864711529287,39.88069560829319 L 117.01302408667229,39.87082930964635 L 117.01631218529658,39.86054873889946 L 117.01774186844234,39.853552177185975 L 117.02010570868549,39.84481159647732 L 117.02148805433309,39.84008513321514 L 117.0262468431545,39.82381927310514 L 117.02732312041915,39.81924568303114 L 117.02795219135712,39.81777705734645 L 117.0308636200715,39.80865326368287 L 117.03288890839231,39.79929280241261 L 117.0340094803694,39.78978152771263 L 117.03421505811349,39.78020667702107 L 117.0335037560649,39.77065607089527 L 117.03188209828804,39.761217307521335 L 117.02936495863256,39.75197695926333 L 117.02597542431042,39.743019778621324 L 117.0217445841399,39.73442792088123 L 117.0167112433989,39.72628019058627 L 117.01092156790276,39.71865131874151 L 117.00917156790274,39.7165613187415 L 117.00376172703773,39.71065973582582 L 117.00260669660962,39.705167793202335 L 117.00012524871121,39.6973516900289 L 117.00025928182332,39.696531907607735 L 117.00088774739736,39.68679536590669 L 117.00096774739727,39.68168536590669 L 117.00078100471623,39.67381448989925 L 117.00049100471628,39.66922448989924 L 116.99941662533028,39.65962234615339 L 116.99742057903572,39.65016870903475 L 116.99452150001369,39.64095183340333 L 116.99074645274851,39.632057763821486 L 116.9861306793659,39.623569531281 L 116.98071727062855,39.615566378063455 L 116.97455676366036,39.608123017970335 L 116.96770667015478,39.601308938828886 L 116.96023093947183,39.59518775378537 L 116.95219936163586,39.589816607441634 L 116.94368691580767,39.585245642379064 L 116.93477307031311,39.58151753105025 L 116.93146307031306,39.58031753105027 L 116.92470915331133,39.57827794823678 L 116.92008929289454,39.570005248998214 L 116.91448403046208,39.56194311999327 L 116.90811510739219,39.554469586026066 L 116.90104393086105,39.547656704587595 L 116.89734393086107,39.544426704587565 L 116.89034929110628,39.53885159238458 L 116.88833929110635,39.53739159238457 L 116.88068589433323,39.53235137961247 L 116.87260323534257,39.52803294811531 L 116.8641591908715,39.524472563315115 L 116.8554246725083,39.521700124692174 L 116.84862467250831,39.51988012469222 L 116.84674376800785,39.51948265962537 L 116.84619934174339,39.51897689690594 L 116.83842281088359,39.51305514156736 L 116.83010529652418,39.50792088666673 L 116.82132626554356,39.50362318570637 L 116.81802626554348,39.50220318570637 L 116.80748203247738,39.49835189274953 L 116.80322203247745,39.49706189274955 L 116.79387060363736,39.49471573236815 L 116.784336701093,39.4932810225853 L 116.77470894598639,39.49277109955782 L 116.76507683185382,39.49319070320842 L 116.75552989275027,39.49453593316632 L 116.74935176433388,39.49602450197006 L 116.74474932689516,39.49475839400951 L 116.72983932689517,39.49141839400953 L 116.7199174837419,39.489715074246384 L 116.70968748374192,39.48848507424636 L 116.70036581508087,39.48780421829718 L 116.69102129542533,39.487996634141474 L 116.68173555576243,39.48906064089078 L 116.67258971359448,39.49098694369373 L 116.66366366432024,39.493758714933165 L 116.65996303459444,39.495299747250755 L 116.65767576495746,39.4945522433708 L 116.6484304369428,39.49247438335108 L 116.63902994167708,39.49128095085643 L 116.62955868958429,39.49098266214593 L 116.62578868958425,39.491042662145894 L 116.61509856116,39.49178703420388 L 116.60454946410314,39.49367104237076 L 116.59426253679187,39.496673052027695 L 116.5843559070322,39.50075859021656 L 116.5809359070322,39.5023885902166 L 116.58086158406368,39.502428740836656 L 116.5784559585994,39.4983728126237 L 116.57270279300992,39.49052637334961 L 116.5662143338586,39.48327617187492 L 116.55905200448372,39.47669084261149 L 116.55128360745132,39.47083272592359 L 116.54864401142522,39.46921879342536 L 116.54903454038703,39.466739424562014 L 116.549597736158,39.45679287686809 L 116.5491684443928,39.44683965080394 L 116.54775092585515,39.43697853313405 L 116.5472809258552,39.434568533134055 L 116.54498551694566,39.42521930202518 L 116.54180174762793,39.416134114227404 L 116.54012232345514,39.41250453117159 L 116.53656350887447,39.40409342811487 L 116.53566350887446,39.40224342811488 L 116.53046059186907,39.3928635347181 L 116.52428294119419,39.38409487589026 L 116.52104517884301,39.380411212652966 L 116.51981347792785,39.3786335994683 L 116.5136272538545,39.37131584490771 L 116.50676903246615,39.36462378248397 L 116.49930178519726,39.35861885797818 L 116.49129407549094,39.35335620794668 L 116.48281942925692,39.34888415346322 L 116.4739556597648,39.34524375644017 L 116.47142565976482,39.34434375644017 L 116.46163578938628,39.34141532995582 L 116.4515981808545,39.33950126134012 L 116.44141764411111,39.33862153676997 L 116.43424480103336,39.33873653443417 L 116.43345145286818,39.338642249149245 L 116.43096145286822,39.33847224914928 L 116.42080206331272,39.338296059113496 L 116.41067723927479,39.33915173269036 L 116.4006915137298,39.341030435543125 L 116.39094798354127,39.34391277114715 L 116.38154724504521,39.347768981047814 L 116.37965724504521,39.348658981047784 L 116.37813179131172,39.34947001922506 L 116.37574468986294,39.34958909909555 L 116.36789225387649,39.34975220804472 L 116.35791665308464,39.35096827503237 L 116.35500940295388,39.351472036537295 L 116.35267934066832,39.35175822316439 L 116.3429399041029,39.35395763527371 L 116.33346834637427,39.357117323934254 L 116.32435909326627,39.3612057889338 L 116.31570295860165,39.366182270713765 L 116.30758623888245,39.37199715671765 L 116.30008985296526,39.37859247599869 L 116.29328853534851,39.38590247715563 L 116.28725009111407,39.39385428383499 L 116.2836379702591,39.39975124012727 L 116.25813754748242,39.39979011620899 L 116.24913778604852,39.400209695824074 L 116.24021231473958,39.40143758622379 L 116.23143358317077,39.40346382040653 L 116.22287284984507,39.40627195107423 L 116.21459960373554,39.40983918413804 L 116.21424960373551,39.41000918413801 L 116.20421507628024,39.415617646634146 L 116.19983507628027,39.41840764663415 L 116.19552301188138,39.42131470046658 L 116.19197301188136,39.42384470046662 L 116.18545904577836,39.4289047794828 L 116.17938425954185,39.43448448612578 L 116.17587937346123,39.43798096720373 L 116.17398064322484,39.439719630512386 L 116.16746420713291,39.446974647058845 L 116.16168541556023,39.454829885590506 L 116.15669922435494,39.46321064341387 L 116.15255305179869,39.472037220188795 L 116.14928632766264,39.48122567587235 L 116.14884854276607,39.482983897317766 L 116.14662915679212,39.48298014307028 L 116.14646000000005,39.482980000000076 L 116.14548950017581,39.482980000000076 L 116.12049155962072,39.48295025235162 L 116.12004510599466,39.48294001017282 L 116.0978751059947,39.48293001017279 L 116.08663000000001,39.48293000000003 L 116.08645893824027,39.48293014631077 L 116.01630893824026,39.48305014631081 L 116.0112872394954,39.48329664714205 L 116.00665030104624,39.483080449098374 L 115.98663030104619,39.48314044909839 L 115.9787906544656,39.483558147191715 L 115.97094499297181,39.48318023114046 L 115.94559830945536,39.48323472841741 L 115.94024090584858,39.47740334251727 L 115.93283225007995,39.47079434573473 L 115.92480476838912,39.46495255179168 L 115.91623758526993,39.459935541509445 L 115.90721514489232,39.45579276606269 L 115.90318687396481,39.454407911427886 L 115.90302285185298,39.45414756775406 L 115.89710397094201,39.44650403350759 L 115.89047468803382,39.439467743637316 L 115.88319695826323,39.433104457033565 L 115.87533879693979,39.42747364291568 L 115.8669736438987,39.42262792505198 L 115.85817967715585,39.418612589955 L 115.84903908228134,39.41546516364842 L 115.83963728431972,39.41321506096093 L 115.82310728431973,39.410095060960906 L 115.81317795049699,39.40873203741306 L 115.80316204978952,39.40836977180143 L 115.7895720497895,39.408559771801464 L 115.78444751896335,39.40894272482985 L 115.78004198814658,39.407909427162146 L 115.77054198596184,39.40662411943365 L 115.76096256214805,39.40625439404525 L 115.751391753581,39.40680364884934 L 115.74191751796059,39.40826683608127 L 115.73262692546143,39.410630508749314 L 115.72360535854014,39.413872944215356 L 115.7222148986268,39.414529134422935 L 115.71501433573414,39.4164327455097 L 115.70575440108243,39.41989012095895 L 115.69688102167834,39.42424477050877 L 115.68848089029198,39.42945414930504 L 115.68063607606823,39.435467361803 L 115.67342322271239,39.44222565901591 L 115.66691279968256,39.44966301249168 L 115.66116841370416,39.45770675940976 L 115.66064841370411,39.45851675940976 L 115.6558979269891,39.46675330526945 L 115.65195118446198,39.47540379861682 L 115.6488438677583,39.48439003223448 L 115.64714577254529,39.49139586018945 L 115.64027587185683,39.494582933237396 L 115.63540023656331,39.49744003574369 L 115.63050648551257,39.49708683412606 L 115.62073717970745,39.49733810937575 L 115.6207174168246,39.497340562165746 L 115.61655967862154,39.49547216597586 L 115.6070794703111,39.49230583439091 L 115.59733053627797,39.490101681371584 L 115.5874102683783,39.48888172640772 L 115.57741777009369,39.48865815685005 L 115.56745286648732,39.48943320615859 L 115.55576286648727,39.49093320615861 L 115.54167439370424,39.49378245145854 L 115.53876439370431,39.494592451458544 L 115.52936667080104,39.49771736787157 L 115.52032413655365,39.501756535204095 L 115.51172548221636,39.50667033637456 L 115.50365504536717,39.51241057569173 L 115.50361201848747,39.51244811003552 L 115.50163886819614,39.5127190282474 L 115.50092481913016,39.51285435924245 L 115.49542482230262,39.513577887994465 L 115.48603495074947,39.51574887563659 L 115.47689767463267,39.518813685629475 L 115.46809786359988,39.52274385113674 L 115.45971725282605,39.527502867651165 L 115.45183368383356,39.5330465320591 L 115.44452038147784,39.53932335321165 L 115.43784527381386,39.54627503018928 L 115.43187036116075,39.55383699381753 L 115.42665114022512,39.561939006404046 L 115.42223608863159,39.57050581412651 L 115.41866621464877,39.57945784601173 L 115.41597467629258,39.588711953013714 L 115.41579978672854,39.589638158805 L 115.41220957640991,39.59435274979353 L 115.40697226742506,39.60288161526428 L 115.40261373548577,39.61189128512256 L 115.39917764042124,39.621291508648014 L 115.39669840192272,39.63098812290705 L 115.39520085475819,39.64088399599187 L 115.39470000000009,39.650880000000086 L 115.39470000000009,39.65919218011148 L 115.39468000122301,39.78706436033802 L 115.39518091732049,39.79707662672773 L 115.39668176333142,39.80698843062241 L 115.3991674562944,39.81670016196593 L 115.40261301589123,39.8261142213592 L 115.40529203668875,39.83164399559643 L 115.4045836955983,39.84061412274436 L 115.40476633111652,39.849894605428474 L 115.40391752387181,39.84999271556515 L 115.39422975411298,39.852100781158875 L 115.3847983448867,39.855157796607614 L 115.37571600394972,39.859133712420594 L 115.36707200782838,39.863989446608336 L 115.35895132425878,39.86967726884623 L 115.35143377698081,39.876141269648436 L 115.34459326109622,39.8833179099404 L 115.33849701670323,39.891136645627746 L 115.33320496794774,39.899520621022326 L 115.3302049679477,39.90484062102231 L 115.32563346797595,39.91401737269494 L 115.32202559271349,39.92361396684825 L 115.31941926503626,39.93352953235364 L 115.317841880415,39.943659845330515 L 115.31731001895766,39.95389842465789 L 115.31782927113358,39.964137651212205 L 115.31812442859301,39.96604869567537 z\" /></g></svg>"
      ],
      "text/plain": [
       "<shapely.geometry.polygon.Polygon at 0x20d18c99a48>"
      ]
     },
     "execution_count": 35,
     "metadata": {},
     "output_type": "execute_result"
    }
   ],
   "source": [
    "geom.buffer(0.1)"
   ]
  },
  {
   "cell_type": "code",
   "execution_count": null,
   "metadata": {},
   "outputs": [],
   "source": []
  },
  {
   "cell_type": "code",
   "execution_count": 6,
   "metadata": {},
   "outputs": [],
   "source": [
    "import random"
   ]
  },
  {
   "cell_type": "code",
   "execution_count": 7,
   "metadata": {},
   "outputs": [],
   "source": [
    "import shapely.geometry as geometry"
   ]
  },
  {
   "cell_type": "markdown",
   "metadata": {},
   "source": [
    "# 点"
   ]
  },
  {
   "cell_type": "code",
   "execution_count": 8,
   "metadata": {},
   "outputs": [],
   "source": [
    "pnt = [geometry.Point(random.uniform(116,117),\n",
    "                      random.uniform(39,40)) for i in range(100)]"
   ]
  },
  {
   "cell_type": "code",
   "execution_count": 9,
   "metadata": {},
   "outputs": [
    {
     "data": {
      "text/plain": [
       "[<shapely.geometry.point.Point at 0x20d117d2248>,\n",
       " <shapely.geometry.point.Point at 0x20d117c7b08>,\n",
       " <shapely.geometry.point.Point at 0x20d117c7c88>,\n",
       " <shapely.geometry.point.Point at 0x20d117d22c8>,\n",
       " <shapely.geometry.point.Point at 0x20d117d2388>,\n",
       " <shapely.geometry.point.Point at 0x20d117d2488>,\n",
       " <shapely.geometry.point.Point at 0x20d117d24c8>,\n",
       " <shapely.geometry.point.Point at 0x20d117d2448>,\n",
       " <shapely.geometry.point.Point at 0x20d117d2508>,\n",
       " <shapely.geometry.point.Point at 0x20d117d2308>,\n",
       " <shapely.geometry.point.Point at 0x20d117d25c8>,\n",
       " <shapely.geometry.point.Point at 0x20d117d2548>,\n",
       " <shapely.geometry.point.Point at 0x20d117d2588>,\n",
       " <shapely.geometry.point.Point at 0x20d117d2608>,\n",
       " <shapely.geometry.point.Point at 0x20d117d2648>,\n",
       " <shapely.geometry.point.Point at 0x20d117d2688>,\n",
       " <shapely.geometry.point.Point at 0x20d117d26c8>,\n",
       " <shapely.geometry.point.Point at 0x20d117d2708>,\n",
       " <shapely.geometry.point.Point at 0x20d117d2748>,\n",
       " <shapely.geometry.point.Point at 0x20d117d2788>,\n",
       " <shapely.geometry.point.Point at 0x20d117d27c8>,\n",
       " <shapely.geometry.point.Point at 0x20d117d2808>,\n",
       " <shapely.geometry.point.Point at 0x20d117d2848>,\n",
       " <shapely.geometry.point.Point at 0x20d117d2888>,\n",
       " <shapely.geometry.point.Point at 0x20d117d28c8>,\n",
       " <shapely.geometry.point.Point at 0x20d117d2908>,\n",
       " <shapely.geometry.point.Point at 0x20d117d2948>,\n",
       " <shapely.geometry.point.Point at 0x20d117d2988>,\n",
       " <shapely.geometry.point.Point at 0x20d117d29c8>,\n",
       " <shapely.geometry.point.Point at 0x20d117d2a08>,\n",
       " <shapely.geometry.point.Point at 0x20d117d2a48>,\n",
       " <shapely.geometry.point.Point at 0x20d117d2a88>,\n",
       " <shapely.geometry.point.Point at 0x20d117d2ac8>,\n",
       " <shapely.geometry.point.Point at 0x20d117d2b08>,\n",
       " <shapely.geometry.point.Point at 0x20d117d2b48>,\n",
       " <shapely.geometry.point.Point at 0x20d117d2b88>,\n",
       " <shapely.geometry.point.Point at 0x20d117d2bc8>,\n",
       " <shapely.geometry.point.Point at 0x20d117d2c08>,\n",
       " <shapely.geometry.point.Point at 0x20d117d2c48>,\n",
       " <shapely.geometry.point.Point at 0x20d117d2c88>,\n",
       " <shapely.geometry.point.Point at 0x20d117d2cc8>,\n",
       " <shapely.geometry.point.Point at 0x20d117d2d08>,\n",
       " <shapely.geometry.point.Point at 0x20d117d2d48>,\n",
       " <shapely.geometry.point.Point at 0x20d117d2d88>,\n",
       " <shapely.geometry.point.Point at 0x20d117d2dc8>,\n",
       " <shapely.geometry.point.Point at 0x20d117d2e08>,\n",
       " <shapely.geometry.point.Point at 0x20d117d2e48>,\n",
       " <shapely.geometry.point.Point at 0x20d117d2e88>,\n",
       " <shapely.geometry.point.Point at 0x20d117d2ec8>,\n",
       " <shapely.geometry.point.Point at 0x20d117d2f08>,\n",
       " <shapely.geometry.point.Point at 0x20d117d2f48>,\n",
       " <shapely.geometry.point.Point at 0x20d117d2fc8>,\n",
       " <shapely.geometry.point.Point at 0x20d117d2f88>,\n",
       " <shapely.geometry.point.Point at 0x20d117d5048>,\n",
       " <shapely.geometry.point.Point at 0x20d117d5088>,\n",
       " <shapely.geometry.point.Point at 0x20d117d50c8>,\n",
       " <shapely.geometry.point.Point at 0x20d117d5108>,\n",
       " <shapely.geometry.point.Point at 0x20d117d5148>,\n",
       " <shapely.geometry.point.Point at 0x20d117d5188>,\n",
       " <shapely.geometry.point.Point at 0x20d117d51c8>,\n",
       " <shapely.geometry.point.Point at 0x20d117d5208>,\n",
       " <shapely.geometry.point.Point at 0x20d117d5248>,\n",
       " <shapely.geometry.point.Point at 0x20d117d5288>,\n",
       " <shapely.geometry.point.Point at 0x20d117d52c8>,\n",
       " <shapely.geometry.point.Point at 0x20d117d5308>,\n",
       " <shapely.geometry.point.Point at 0x20d117d5348>,\n",
       " <shapely.geometry.point.Point at 0x20d117d5388>,\n",
       " <shapely.geometry.point.Point at 0x20d117d53c8>,\n",
       " <shapely.geometry.point.Point at 0x20d117d5408>,\n",
       " <shapely.geometry.point.Point at 0x20d117d5448>,\n",
       " <shapely.geometry.point.Point at 0x20d117d5488>,\n",
       " <shapely.geometry.point.Point at 0x20d117d54c8>,\n",
       " <shapely.geometry.point.Point at 0x20d117d5508>,\n",
       " <shapely.geometry.point.Point at 0x20d117d5548>,\n",
       " <shapely.geometry.point.Point at 0x20d117d5588>,\n",
       " <shapely.geometry.point.Point at 0x20d117d55c8>,\n",
       " <shapely.geometry.point.Point at 0x20d117d5608>,\n",
       " <shapely.geometry.point.Point at 0x20d117d5648>,\n",
       " <shapely.geometry.point.Point at 0x20d117d5688>,\n",
       " <shapely.geometry.point.Point at 0x20d117d56c8>,\n",
       " <shapely.geometry.point.Point at 0x20d117d5708>,\n",
       " <shapely.geometry.point.Point at 0x20d117d5748>,\n",
       " <shapely.geometry.point.Point at 0x20d117d5788>,\n",
       " <shapely.geometry.point.Point at 0x20d117d57c8>,\n",
       " <shapely.geometry.point.Point at 0x20d117d5808>,\n",
       " <shapely.geometry.point.Point at 0x20d117d5848>,\n",
       " <shapely.geometry.point.Point at 0x20d117d5888>,\n",
       " <shapely.geometry.point.Point at 0x20d117d58c8>,\n",
       " <shapely.geometry.point.Point at 0x20d117d5908>,\n",
       " <shapely.geometry.point.Point at 0x20d117d5948>,\n",
       " <shapely.geometry.point.Point at 0x20d117d5988>,\n",
       " <shapely.geometry.point.Point at 0x20d117d59c8>,\n",
       " <shapely.geometry.point.Point at 0x20d117d5a08>,\n",
       " <shapely.geometry.point.Point at 0x20d117d5a48>,\n",
       " <shapely.geometry.point.Point at 0x20d117d5a88>,\n",
       " <shapely.geometry.point.Point at 0x20d117d5ac8>,\n",
       " <shapely.geometry.point.Point at 0x20d117d5b08>,\n",
       " <shapely.geometry.point.Point at 0x20d117d5b48>,\n",
       " <shapely.geometry.point.Point at 0x20d117d5b88>,\n",
       " <shapely.geometry.point.Point at 0x20d117d5bc8>]"
      ]
     },
     "execution_count": 9,
     "metadata": {},
     "output_type": "execute_result"
    }
   ],
   "source": [
    "pnt"
   ]
  },
  {
   "cell_type": "code",
   "execution_count": 10,
   "metadata": {},
   "outputs": [],
   "source": [
    "pntGDF = geopandas.GeoDataFrame({\"geometry\":pnt})"
   ]
  },
  {
   "cell_type": "code",
   "execution_count": 11,
   "metadata": {},
   "outputs": [
    {
     "data": {
      "text/plain": [
       "<AxesSubplot:>"
      ]
     },
     "execution_count": 11,
     "metadata": {},
     "output_type": "execute_result"
    },
    {
     "data": {
      "image/png": "[encoded data removed]",
      "text/plain": [
       "<Figure size 432x288 with 1 Axes>"
      ]
     },
     "metadata": {
      "needs_background": "light"
     },
     "output_type": "display_data"
    }
   ],
   "source": [
    "pntGDF.plot(cmap=\"tab20\")"
   ]
  },
  {
   "cell_type": "markdown",
   "metadata": {},
   "source": [
    "# 面"
   ]
  },
  {
   "cell_type": "code",
   "execution_count": 12,
   "metadata": {},
   "outputs": [],
   "source": [
    "from shapely.wkt import dumps, loads"
   ]
  },
  {
   "cell_type": "code",
   "execution_count": 13,
   "metadata": {},
   "outputs": [],
   "source": [
    "wkt1 = \"POLYGON ((30 10, 40 40, 20 40, 10 20, 30 10))\"\n",
    "wkt2 = \"POLYGON ((40 20, 66 40, 71 33, 92 15,60 8,40 20))\""
   ]
  },
  {
   "cell_type": "code",
   "execution_count": 14,
   "metadata": {},
   "outputs": [],
   "source": [
    "poly = [loads(wkt1),loads(wkt2)]"
   ]
  },
  {
   "cell_type": "code",
   "execution_count": 15,
   "metadata": {},
   "outputs": [
    {
     "data": {
      "text/plain": [
       "[<shapely.geometry.polygon.Polygon at 0x20d136c4948>,\n",
       " <shapely.geometry.polygon.Polygon at 0x20d136c49c8>]"
      ]
     },
     "execution_count": 15,
     "metadata": {},
     "output_type": "execute_result"
    }
   ],
   "source": [
    "poly"
   ]
  },
  {
   "cell_type": "code",
   "execution_count": 16,
   "metadata": {},
   "outputs": [],
   "source": [
    "polyGDF = geopandas.GeoDataFrame({\"geometry\":poly})"
   ]
  },
  {
   "cell_type": "code",
   "execution_count": 17,
   "metadata": {},
   "outputs": [
    {
     "data": {
      "text/plain": [
       "<AxesSubplot:>"
      ]
     },
     "execution_count": 17,
     "metadata": {},
     "output_type": "execute_result"
    },
    {
     "data": {
      "image/png": "[encoded data removed]",
      "text/plain": [
       "<Figure size 432x288 with 1 Axes>"
      ]
     },
     "metadata": {
      "needs_background": "light"
     },
     "output_type": "display_data"
    }
   ],
   "source": [
    "polyGDF.plot(cmap=\"Set3\")"
   ]
  },
  {
   "cell_type": "markdown",
   "metadata": {},
   "source": [
    "# 线"
   ]
  },
  {
   "cell_type": "code",
   "execution_count": 18,
   "metadata": {},
   "outputs": [],
   "source": [
    "wkt1 = \"LINESTRING (30 10, 40 40, 20 40, 10 20)\"\n",
    "wkt2 = \"LINESTRING (40 20, 66 40, 71 33, 92 15,60 8)\""
   ]
  },
  {
   "cell_type": "code",
   "execution_count": 19,
   "metadata": {},
   "outputs": [],
   "source": [
    "lineGDF = geopandas.GeoDataFrame({\"geometry\":[loads(wkt1),\n",
    "                                              loads(wkt2)]})"
   ]
  },
  {
   "cell_type": "code",
   "execution_count": 20,
   "metadata": {},
   "outputs": [
    {
     "data": {
      "text/plain": [
       "<AxesSubplot:>"
      ]
     },
     "execution_count": 20,
     "metadata": {},
     "output_type": "execute_result"
    },
    {
     "data": {
      "image/png": "[encoded data removed]",
      "text/plain": [
       "<Figure size 432x288 with 1 Axes>"
      ]
     },
     "metadata": {
      "needs_background": "light"
     },
     "output_type": "display_data"
    }
   ],
   "source": [
    "lineGDF.plot(cmap=\"Set3\")"
   ]
  },
  {
   "cell_type": "code",
   "execution_count": null,
   "metadata": {},
   "outputs": [],
   "source": []
  }
 ],
 "metadata": {
  "kernelspec": {
   "display_name": "Python 3",
   "language": "python",
   "name": "python3"
  },
  "language_info": {
   "codemirror_mode": {
    "name": "ipython",
    "version": 3
   },
   "file_extension": ".py",
   "mimetype": "text/x-python",
   "name": "python",
   "nbconvert_exporter": "python",
   "pygments_lexer": "ipython3",
   "version": "3.7.9"
  }
 },
 "nbformat": 4,
 "nbformat_minor": 4
}
